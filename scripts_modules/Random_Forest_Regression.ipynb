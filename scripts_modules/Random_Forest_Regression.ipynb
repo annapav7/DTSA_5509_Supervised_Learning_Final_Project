{
  "nbformat": 4,
  "nbformat_minor": 0,
  "metadata": {
    "colab": {
      "name": "Random Forest Regression.ipynb",
      "provenance": [],
      "collapsed_sections": []
    },
    "kernelspec": {
      "name": "python3",
      "display_name": "Python 3"
    }
  },
  "cells": [
    {
      "cell_type": "markdown",
      "metadata": {
        "id": "7aiV3yRp0G8v",
        "colab_type": "text"
      },
      "source": [
        "#Donwload a ImageCollection "
      ]
    },
    {
      "cell_type": "markdown",
      "metadata": {
        "id": "9kqCShGhjInR",
        "colab_type": "text"
      },
      "source": [
        "## 1._ Install libraries"
      ]
    },
    {
      "cell_type": "code",
      "metadata": {
        "id": "H2lJiM_8i_Gw",
        "colab_type": "code",
        "colab": {
          "base_uri": "https://localhost:8080/",
          "height": 515
        },
        "outputId": "d29bbf05-2a78-44d2-f6fb-79b39d8e5121"
      },
      "source": [
        "!pip install earthengine-api\n"
      ],
      "execution_count": null,
      "outputs": [
        {
          "output_type": "stream",
          "text": [
            "Requirement already satisfied: earthengine-api in /usr/local/lib/python3.6/dist-packages (0.1.224)\n",
            "Requirement already satisfied: google-cloud-storage in /usr/local/lib/python3.6/dist-packages (from earthengine-api) (1.18.1)\n",
            "Requirement already satisfied: httplib2shim in /usr/local/lib/python3.6/dist-packages (from earthengine-api) (0.0.3)\n",
            "Requirement already satisfied: six in /usr/local/lib/python3.6/dist-packages (from earthengine-api) (1.12.0)\n",
            "Requirement already satisfied: httplib2<1dev,>=0.9.2 in /usr/local/lib/python3.6/dist-packages (from earthengine-api) (0.17.4)\n",
            "Requirement already satisfied: future in /usr/local/lib/python3.6/dist-packages (from earthengine-api) (0.16.0)\n",
            "Requirement already satisfied: google-api-python-client in /usr/local/lib/python3.6/dist-packages (from earthengine-api) (1.7.12)\n",
            "Requirement already satisfied: google-auth>=1.4.1 in /usr/local/lib/python3.6/dist-packages (from earthengine-api) (1.7.2)\n",
            "Requirement already satisfied: google-auth-httplib2>=0.0.3 in /usr/local/lib/python3.6/dist-packages (from earthengine-api) (0.0.3)\n",
            "Requirement already satisfied: google-resumable-media<0.5.0dev,>=0.3.1 in /usr/local/lib/python3.6/dist-packages (from google-cloud-storage->earthengine-api) (0.4.1)\n",
            "Requirement already satisfied: google-cloud-core<2.0dev,>=1.0.0 in /usr/local/lib/python3.6/dist-packages (from google-cloud-storage->earthengine-api) (1.0.3)\n",
            "Requirement already satisfied: certifi in /usr/local/lib/python3.6/dist-packages (from httplib2shim->earthengine-api) (2020.4.5.1)\n",
            "Requirement already satisfied: urllib3 in /usr/local/lib/python3.6/dist-packages (from httplib2shim->earthengine-api) (1.24.3)\n",
            "Requirement already satisfied: uritemplate<4dev,>=3.0.0 in /usr/local/lib/python3.6/dist-packages (from google-api-python-client->earthengine-api) (3.0.1)\n",
            "Requirement already satisfied: pyasn1-modules>=0.2.1 in /usr/local/lib/python3.6/dist-packages (from google-auth>=1.4.1->earthengine-api) (0.2.8)\n",
            "Requirement already satisfied: rsa<4.1,>=3.1.4 in /usr/local/lib/python3.6/dist-packages (from google-auth>=1.4.1->earthengine-api) (4.0)\n",
            "Requirement already satisfied: setuptools>=40.3.0 in /usr/local/lib/python3.6/dist-packages (from google-auth>=1.4.1->earthengine-api) (47.1.1)\n",
            "Requirement already satisfied: cachetools<3.2,>=2.0.0 in /usr/local/lib/python3.6/dist-packages (from google-auth>=1.4.1->earthengine-api) (3.1.1)\n",
            "Requirement already satisfied: google-api-core<2.0.0dev,>=1.14.0 in /usr/local/lib/python3.6/dist-packages (from google-cloud-core<2.0dev,>=1.0.0->google-cloud-storage->earthengine-api) (1.16.0)\n",
            "Requirement already satisfied: pyasn1<0.5.0,>=0.4.6 in /usr/local/lib/python3.6/dist-packages (from pyasn1-modules>=0.2.1->google-auth>=1.4.1->earthengine-api) (0.4.8)\n",
            "Requirement already satisfied: googleapis-common-protos<2.0dev,>=1.6.0 in /usr/local/lib/python3.6/dist-packages (from google-api-core<2.0.0dev,>=1.14.0->google-cloud-core<2.0dev,>=1.0.0->google-cloud-storage->earthengine-api) (1.52.0)\n",
            "Requirement already satisfied: protobuf>=3.4.0 in /usr/local/lib/python3.6/dist-packages (from google-api-core<2.0.0dev,>=1.14.0->google-cloud-core<2.0dev,>=1.0.0->google-cloud-storage->earthengine-api) (3.10.0)\n",
            "Requirement already satisfied: pytz in /usr/local/lib/python3.6/dist-packages (from google-api-core<2.0.0dev,>=1.14.0->google-cloud-core<2.0dev,>=1.0.0->google-cloud-storage->earthengine-api) (2018.9)\n",
            "Requirement already satisfied: requests<3.0.0dev,>=2.18.0 in /usr/local/lib/python3.6/dist-packages (from google-api-core<2.0.0dev,>=1.14.0->google-cloud-core<2.0dev,>=1.0.0->google-cloud-storage->earthengine-api) (2.23.0)\n",
            "Requirement already satisfied: idna<3,>=2.5 in /usr/local/lib/python3.6/dist-packages (from requests<3.0.0dev,>=2.18.0->google-api-core<2.0.0dev,>=1.14.0->google-cloud-core<2.0dev,>=1.0.0->google-cloud-storage->earthengine-api) (2.9)\n",
            "Requirement already satisfied: chardet<4,>=3.0.2 in /usr/local/lib/python3.6/dist-packages (from requests<3.0.0dev,>=2.18.0->google-api-core<2.0.0dev,>=1.14.0->google-cloud-core<2.0dev,>=1.0.0->google-cloud-storage->earthengine-api) (3.0.4)\n"
          ],
          "name": "stdout"
        }
      ]
    },
    {
      "cell_type": "markdown",
      "metadata": {
        "id": "nsUe3X03jOFw",
        "colab_type": "text"
      },
      "source": [
        "## 2._ Establish connection"
      ]
    },
    {
      "cell_type": "code",
      "metadata": {
        "id": "ifHQNPvPjFMq",
        "colab_type": "code",
        "colab": {
          "base_uri": "https://localhost:8080/",
          "height": 276
        },
        "outputId": "13359720-2f84-4ee3-8942-9d28cbc07d33"
      },
      "source": [
        "!earthengine authenticate"
      ],
      "execution_count": null,
      "outputs": [
        {
          "output_type": "stream",
          "text": [
            "WARNING:tensorflow:From /usr/local/lib/python3.6/dist-packages/tensorflow/python/compat/v2_compat.py:96: disable_resource_variables (from tensorflow.python.ops.variable_scope) is deprecated and will be removed in a future version.\n",
            "Instructions for updating:\n",
            "non-resource variables are not supported in the long term\n",
            "Running command using Cloud API.  Set --no-use_cloud_api to go back to using the API\n",
            "\n",
            "To authorize access needed by Earth Engine, open the following URL in a web browser and follow the instructions. If the web browser does not start automatically, please manually browse the URL below.\n",
            "\n",
            "    https://accounts.google.com/o/oauth2/auth?client_id=517222506229-vsmmajv00ul0bs7p89v5m89qs8eb9359.apps.googleusercontent.com&scope=https%3A%2F%2Fwww.googleapis.com%2Fauth%2Fearthengine+https%3A%2F%2Fwww.googleapis.com%2Fauth%2Fdevstorage.full_control&redirect_uri=urn%3Aietf%3Awg%3Aoauth%3A2.0%3Aoob&response_type=code&code_challenge=yCvA88uLn9moQSo-WdixR_atTgNkpZaf6Upm7u11sdc&code_challenge_method=S256\n",
            "\n",
            "The authorization workflow will generate a code, which you should paste in the box below. \n",
            "Enter verification code: 4/0wFAxG_qWLI-VlvW6axTzpdaaXHQ6urJxVGwvWJY9DLZJDsjHiAqVOs\n",
            "\n",
            "Successfully saved authorization token.\n"
          ],
          "name": "stdout"
        }
      ]
    },
    {
      "cell_type": "markdown",
      "metadata": {
        "id": "4j87pNTBSBxt",
        "colab_type": "text"
      },
      "source": [
        "**`Complete End to End Python code for Random Forest Regression:`**"
      ]
    },
    {
      "cell_type": "code",
      "metadata": {
        "id": "r-9I6SzYSCGH",
        "colab_type": "code",
        "colab": {}
      },
      "source": [
        "# Import necessary Libraries\n",
        "import pandas as pd\n",
        "import numpy as np\n",
        "import matplotlib.pyplot as plt\n",
        "#import rasterio as rio\n",
        "#from rasterio.plot import show\n",
        "\n",
        "# Import the data ( CSV formats)\n",
        "#data = pd.read_csv('name_of_file.csv')\n",
        "#data.head()"
      ],
      "execution_count": null,
      "outputs": []
    },
    {
      "cell_type": "code",
      "metadata": {
        "id": "e69MUkyOSC59",
        "colab_type": "code",
        "colab": {}
      },
      "source": [
        "# Store the Data in form of dependent and independent variables separatly\n",
        "X = data.ilog[:, 0:1].values\n",
        "y = data.ilog[:, 1].values"
      ],
      "execution_count": null,
      "outputs": []
    },
    {
      "cell_type": "code",
      "metadata": {
        "id": "i16OpGiarvTC",
        "colab_type": "code",
        "colab": {}
      },
      "source": [
        "# Import the Random Forest Regressor\n",
        "from sklearn.ensemble import RandomForestRegressor\n",
        "\n",
        "# Craete a Random Forest Regressor object from Random Forest Regressor Class\n",
        "RFReg = RandomForestRegressor(n_estimators = 100, random_state = 0)\n",
        "\n",
        "# Fit the random forest regressor with Training Data represented by X_train and y_train\n",
        "RFReg.fit(X_train, y_train)"
      ],
      "execution_count": null,
      "outputs": []
    },
    {
      "cell_type": "code",
      "metadata": {
        "id": "ZcCZfF30HOl4",
        "colab_type": "code",
        "colab": {}
      },
      "source": [
        "#Predicted Height from test dataset w.r.t Random Forest Regression\n",
        "y_predict_rfr = RFReg.predict((X_test))\n",
        "\n",
        "#Model Evaluation using R-Square for Random Forest Regression\n",
        "from sklearn import metrics\n",
        "r_square = metrics.r2_score(y_test, y_predict_rfr)\n",
        "print('R-Square Error associated with Random Forest Regression is:', r_square)"
      ],
      "execution_count": null,
      "outputs": []
    },
    {
      "cell_type": "code",
      "metadata": {
        "id": "AOZOrVHeHXLv",
        "colab_type": "code",
        "colab": {}
      },
      "source": [
        "''' Visualise the Random Forest Regression by creating range of values from min value of X_train to max value of X_train  \n",
        "having a difference of 0.01 between two consecutive values'''\n",
        "X_val = np.arange(min(X_train), max(X_train), 0.01) \n",
        "  \n",
        "#Reshape the data into a len(X_val)*1 array in order to make a column out of the X_val values \n",
        "X_val = X_val.reshape((len(X_val), 1))  \n",
        "  \n",
        "#Define a scatter plot for training data \n",
        "plt.scatter(X_train, y_train, color = 'blue') \n",
        "  \n",
        "#Plot the predicted data \n",
        "plt.plot(X_val, RFReg.predict(X_val), color = 'red')  \n",
        "  \n",
        "#Define the title \n",
        "plt.title('NO2 prediction using Random Forest Regression')  \n",
        "  \n",
        "#Define X axis label \n",
        "plt.xlabel('NDVI') \n",
        "  \n",
        "#Define Y axis label \n",
        "plt.ylabel('Level of NO2') \n",
        "\n",
        "#Set the size of the plot for better clarity\n",
        "plt.figure(figsize=(1,1))\n",
        "  \n",
        "#Draw the plot \n",
        "plt.show()"
      ],
      "execution_count": null,
      "outputs": []
    },
    {
      "cell_type": "code",
      "metadata": {
        "id": "hI-uOuTJHfOv",
        "colab_type": "code",
        "colab": {}
      },
      "source": [
        "# Predicting Height based on Age using Random Forest Regression \n",
        "no2_pred = RFReg.predict([[41]])\n",
        "print(\"Predicted NO2t: % d\"% no2_pred)"
      ],
      "execution_count": null,
      "outputs": []
    },
    {
      "cell_type": "markdown",
      "metadata": {
        "id": "r7PHp_5TN_t6",
        "colab_type": "text"
      },
      "source": [
        "**Model Evaluation**"
      ]
    },
    {
      "cell_type": "code",
      "metadata": {
        "id": "YVsZ58wLN-3M",
        "colab_type": "code",
        "colab": {}
      },
      "source": [
        "#Model Evaluation using Mean Square Error (MSE)\n",
        "print('Mean Squared Error:', metrics.mean_squared_error(y_test, y_predict))"
      ],
      "execution_count": null,
      "outputs": []
    },
    {
      "cell_type": "code",
      "metadata": {
        "id": "HZ4vTRMkOUmL",
        "colab_type": "code",
        "colab": {}
      },
      "source": [
        "#Model Evaluation using Root Mean Square Error (RMSE)\n",
        "print('Root Mean Squared Error:', np.sqrt(metrics.mean_squared_error(y_test, y_predict)))"
      ],
      "execution_count": null,
      "outputs": []
    },
    {
      "cell_type": "code",
      "metadata": {
        "id": "-0tFnJtUOX6S",
        "colab_type": "code",
        "colab": {}
      },
      "source": [
        "#Model Evaluation using Mean Absolute Error (MAE)\n",
        "print('Mean Absolute Error:', metrics.mean_absolute_error(y_test, y_predict))"
      ],
      "execution_count": null,
      "outputs": []
    },
    {
      "cell_type": "code",
      "metadata": {
        "id": "vEzTkUEEOdac",
        "colab_type": "code",
        "colab": {}
      },
      "source": [
        "#Model Evaluation using R-Square\n",
        "from sklearn import metrics\n",
        "r_square = metrics.r2_score(y_test, y_predict)\n",
        "print('R-Square Error:', r_square)"
      ],
      "execution_count": null,
      "outputs": []
    },
    {
      "cell_type": "code",
      "metadata": {
        "id": "3H0pgwgbPDJZ",
        "colab_type": "code",
        "colab": {}
      },
      "source": [
        "#For Illustration Purpose Only. \n",
        "#Considering Multiple Linear Equation with two Variables : grade = a0 + a1*time_to_study + a2*class_participation\n",
        "#Model Evaluation using Adjusted R-Square. \n",
        "# Here n = no. of observations and p = no. of independent variables\n",
        "\n",
        "n = 50\n",
        "p = 2\n",
        "Adj_r_square = 1-(1-r_square)*(n-1)/(n-p-1)\n",
        "print('Adjusted R-Square Error:', Adj_r_square)"
      ],
      "execution_count": null,
      "outputs": []
    }
  ]
}