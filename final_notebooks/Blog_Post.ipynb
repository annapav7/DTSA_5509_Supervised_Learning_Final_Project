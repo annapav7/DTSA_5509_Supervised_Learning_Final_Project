{
 "cells": [
  {
   "cell_type": "markdown",
   "metadata": {},
   "source": [
    "<img style=\"float: left;\" src=\"33.JPG\" width=\"150\" height=\"150\" />\n",
    "\n",
    "\n",
    "#  NO2 Prediction by using Machine Learning Regression Analyses in Google EE"
   ]
  },
  {
   "cell_type": "markdown",
   "metadata": {},
   "source": [
    "# Contents:"
   ]
  },
  {
   "cell_type": "markdown",
   "metadata": {},
   "source": [
    "## Nitrogen Dioxide (NO2) air pollution.\n",
    "The World Health Organization estimates that air pollution kills 4.2 million people every year.  \n",
    "The main effect of breathing in raised levels of NO2 is the increased likelihood of respiratory problems. NO2 inflames the lining of the lungs, and it can reduce immunity to lung infections.\n",
    "\n",
    "Even there are connections between respiratory deceases / also exposure to viruses and more deadly cases and level of NO2 pollution in our atmosphere.\n",
    "\n",
    "##### Sources of NO2:\n",
    "The rapid population growth, \n",
    "The fast urbanization: \n",
    "    - Industrial facilities\n",
    "    - Fossil fuels (coal, oil and gas)\n",
    "    - The increase of transportation – 80 %.\n",
    "\n",
    "\n",
    "The affect air pollution (NO2): \n",
    "population health, and global warming.\n",
    "\n",
    "<img style=\"float: left;\" src=\"4.jpg\" width=\"1250\" height=\"1250\" />\n",
    "\n",
    "Fig_1. Pollution in Industrial cities"
   ]
  },
  {
   "cell_type": "markdown",
   "metadata": {},
   "source": [
    "### Workflow:\n"
   ]
  },
  {
   "cell_type": "markdown",
   "metadata": {},
   "source": [
    "<img style=\"float: center;\" src=\"WorkFlow.jpg\" width=\"1500\" height=\"1500\" />\n",
    "Fig_2. WorkFlow of this project"
   ]
  },
  {
   "cell_type": "markdown",
   "metadata": {},
   "source": [
    "### Study Area / Input Data:\n",
    "Study area for research Project: Los Angeles,  CA.\n",
    "Data: Image collection of Landsat 8 for 2014 – 2019 years, Sentinel 5-P (TROPOMI) 2018 -2019.\n",
    "<img style=\"float: center;\" src=\"data.JPG\" width=\"1500\" height=\"1500\" />\n",
    "Fig_3. Los Angeles,  CA / Landsat 8  / Sentinel 5-P (TROPOMI)"
   ]
  },
  {
   "cell_type": "markdown",
   "metadata": {},
   "source": [
    "### ML Regression Analysis uses in this Project\n",
    "\n",
    "The machine learning toolbox includes several linear and non-linear supervised learners, predicting either numeric outputs (regressors) or nominal outputs (classifiers).\n",
    "\n",
    "##### Classification Workflow\n",
    "1. Build\n",
    "2. Train\n",
    "3. Apply\n",
    "4. Assessment\n",
    "\n",
    "##### Classification Workflow\n",
    "var training = image.sample(region, scale)\n",
    "var classifier = ee.Classifier.randomForest().train(training)\n",
    "var result = image.classify(classifier)\n",
    "var predictor = classifier.setOutputMode(Regression)\n",
    "var confusionMatrix = classifier.confusionMatrix()\n",
    "var accuracy = confusionMatrix.accuracy()\n",
    "\n",
    "##### Classifiers\n",
    "Classification and regression trees.\n",
    "\n",
    "Linear Regression: Random Forest - Random Decision Forest, SVM - Support Vector Machine\n",
    "\n",
    "##### Classifier Output Mode\n",
    "classifier.setOutputMode(mode):\n",
    "\n",
    "Classification - Discrete input/output classes\n",
    "\n",
    "Regression - Continuous valued output\n",
    "\n",
    "Probability - binary classifiers only\n",
    "\n",
    "// _______________________________\n",
    "Support Regression: Random Forest, SVM\n",
    "// _______________________________\n",
    "Support Probability: Cart, NaiveBayes, IKPamir*, Pegasos, SVM, Perceptron"
   ]
  },
  {
   "cell_type": "markdown",
   "metadata": {},
   "source": [
    "##  Methods in this project\n",
    "### Random Sampling\n",
    "Training DataSEt created by using Random Points. Random Points were collected by areas selected in 9 different levels of NO2 by TROPOMI satellite imagery 2019.\n",
    "\n",
    "var training = image.sample(region, numPixels)\n",
    "\n",
    "var training = image.sample(ee.FeatureCollection.RandomPoints(numPixels))\n",
    "\n",
    "<img style=\"float: center;\" src=\"tropomi.jpg\" width=\"1500\" height=\"1500\" />\n",
    "Fig_4. TROPOMI imagery 2019\n",
    "\n",
    "\n",
    "<img style=\"float: center;\" src=\"Random_Points.JPG\" width=\"1500\" height=\"1500\" />\n",
    "\n",
    "\n",
    "<img style=\"float: center;\" src=\"tropomi_points.jpg\" width=\"1500\" height=\"1500\" />\n",
    "Fig_5. Random points collection from TROPOMI 2019"
   ]
  },
  {
   "cell_type": "markdown",
   "metadata": {},
   "source": [
    "### Supervised Classification\n",
    "\n",
    "In project was used Random Forest method.\n",
    "\n",
    "// ___ https://code.earthengine.google.com/?accept_repo=EE101-B&scriptPath=users%2Fpavlenkoanna2011%2Fex1%3AClassifications%2FRandom_Forest\n",
    "<img style=\"float: center;\" src=\"Prediction.jpg\" width=\"1500\" height=\"1500\" />\n",
    "Fig_6. Random Forest Classification 2019\n",
    "\n",
    "We can assess the accuracy of the trained classifier using a confusionMatrix.\n",
    "\n",
    "// Get a confusion matrix representing resubstitution accuracy.\n",
    "\n",
    "print('RF error matrix: ', classifier.confusionMatrix());\n",
    "<img style=\"float: center;\" src=\"Error_matrix.JPG\" width=\"450\" height=\"450\" />\n",
    "\n",
    "\n",
    "print('RF accuracy: ', classifier.confusionMatrix().accuracy());\n",
    "<img style=\"float: center;\" src=\"valid_matrix.JPG\" width=\"450\" height=\"450\" />\n",
    "\n"
   ]
  },
  {
   "cell_type": "markdown",
   "metadata": {},
   "source": [
    "## Two ways of Predict continuous values: Across Space & Over Time:\n",
    "### Regression: Predict continuous values output Across Space\n",
    "\n",
    "Contexts of Linear Regression in GEE:\n",
    "<img style=\"float: center;\" src=\"across_space.jpg\" width=\"1500\" height=\"1500\" />\n",
    "Fig_7.  Regression Across Space 2018\n",
    "\n",
    "// PREDICTION FOR 2018 YEAR:\n",
    "\n",
    "var predict_2018 = landsat8_2018.select(bands).classify(predictor_all_data);\n",
    "\n",
    "\n",
    "// NDVI_2018\n",
    "\n",
    "var ndvi_2018 = landsat8_2018.normalizedDifference(['B5', 'B4']);\n",
    "\n",
    "\n",
    "// ___https://code.earthengine.google.com/?accept_repo=EE101-B&scriptPath=users%2Fpavlenkoanna2011%2Fex1%3ANDVI_Landsat%2FNDVI_Landsat_2018\n",
    "\n",
    "<img style=\"float: center;\" src=\"ndvi.JPG\" width=\"1500\" height=\"1500\" />\n",
    "Fig_8. NDVI and Regression 2018\n",
    "\n",
    "#### Linear Regression 2018\n",
    "// https://code.earthengine.google.com/?accept_repo=EE101-B&scriptPath=users%2Fpavlenkoanna2011%2Fex1%3AClassifications%2FRandom_Forest\n",
    "\n",
    "<img style=\"float: center;\" src=\"ee-chart_2018.png\" width=\"1500\" height=\"1500\" />\n",
    "Fig_9.  Regression 2018\n",
    "\n",
    "<img style=\"float: center;\" src=\"coff_2018_1.jpg\" width=\"250\" height=\"250\" />\n",
    "Fig_10. NDVI and Regression 2018\n"
   ]
  },
  {
   "cell_type": "markdown",
   "metadata": {},
   "source": [
    "### Model Accuracy:\n",
    "\n",
    "For 2018 there are TROPOMI data exist, also Predicted value NO2 calculated from Predictor 2019. It is possible to evaluate quality of Predictor.\n",
    "<img style=\"float: center;\" src=\"difference_raster.jpg\" width=\"1500\" height=\"1500\" />\n",
    "Fig_11.  Difference Raster 2018 - Difference between actual value NO2 and Predicted value NO2"
   ]
  },
  {
   "cell_type": "markdown",
   "metadata": {},
   "source": [
    "#### Predictions 2018 -2015 years:\n",
    "// 2018 - https://code.earthengine.google.co.in/?scriptPath=users%2Fpavlenkoanna2011%2Fex1%3APredictions%2FPrediction_2018\n",
    "\n",
    "// 2017 - https://code.earthengine.google.co.in/?scriptPath=users%2Fpavlenkoanna2011%2Fex1%3APredictions%2FPrediction_2017\n",
    "\n",
    "// 2016 - https://code.earthengine.google.co.in/?scriptPath=users%2Fpavlenkoanna2011%2Fex1%3APredictions%2FPrediction_2016\n",
    "\n",
    "// 2015 - https://code.earthengine.google.co.in/?scriptPath=users%2Fpavlenkoanna2011%2Fex1%3APredictions%2FPrediction_2015\n",
    "\n",
    "<img style=\"float: center;\" src=\"predictions.jpg\" width=\"1500\" height=\"1500\" />\n",
    "Fig_12.  NO2 Predictions for 2018 -2015 years"
   ]
  },
  {
   "cell_type": "markdown",
   "metadata": {},
   "source": [
    "### Predict continuous values output Across Time (Random Forest REGRESSION):\n",
    "//  NO2 PREDICTIONS for 2014 - 2018 years:\n",
    "// Landsat 2018:\n",
    "\n",
    "var predict_2018 = landsat8_2018.select(bands).classify(predictor_all_data);\n",
    "\n",
    "var predict_2017 = landsat8_2017.select(bands).classify(predictor_all_data);\n",
    "\n",
    "var predict_2016 = landsat8_2016.select(bands).classify(predictor_all_data);\n",
    "\n",
    "var predict_2015 = landsat8_2015.select(bands).classify(predictor_all_data);\n",
    "\n",
    "var predict_2014 = landsat8_2014.select(bands).classify(predictor_all_data);\n",
    "\n",
    "<img style=\"float: center;\" src=\"over_time.jpg\" width=\"1500\" height=\"1500\" />\n",
    "Fig_13.  Context of Linear Regression in GEE - over Time"
   ]
  },
  {
   "cell_type": "markdown",
   "metadata": {},
   "source": [
    "\n",
    "<img style=\"float: center;\" src=\"chart_over_time.jpg\" width=\"1500\" height=\"1500\" />\n",
    "Fig_14. Predicted NO2 level Over Time (2018 - 2014)\n"
   ]
  },
  {
   "cell_type": "markdown",
   "metadata": {},
   "source": [
    "<img style=\"float: center;\" src=\"power_plants.jpg\" width=\"1500\" height=\"1500\" />\n",
    "Fig_15. Power Plants in GEE\n"
   ]
  },
  {
   "cell_type": "markdown",
   "metadata": {},
   "source": [
    "<img style=\"float: center;\" src=\"point_prediction.jpg\" width=\"1500\" height=\"1500\" />\n",
    "Fig_16. Power Plants Predictions in GEE"
   ]
  },
  {
   "cell_type": "markdown",
   "metadata": {},
   "source": [
    "# Result\n",
    "The goal to create data of NO2 for past years (2018, 2017, 2016, 2015) by using data for 2019 (TROPOMI and Landsat 8) was reached."
   ]
  },
  {
   "cell_type": "markdown",
   "metadata": {},
   "source": [
    "# Summary / Conclusions:\n",
    "To improve accuracy of Regression / Prediction Model combination from multiple Machine Learning Algorithms or Multiple Predictions several times from the same Algorithm to make more accurate predictions - Ensemble Model.\n"
   ]
  },
  {
   "cell_type": "markdown",
   "metadata": {},
   "source": [
    "# References:\n",
    "1. Bert Brunekreef, Stephen T Holgate \"Air pollution and health\". THE LANCET • Vol 360 • October 19, 2002 • www.thelancet.com\n",
    "\n",
    "2. M.L. Brusseau, A.D. Matthias, A.C. Comrie and S.A. Musil \"Atmospheric Pollution\". Environmental and Pollution Science. https://doi.org/10.1016/B978-0-12-814719-1.00017-3 Copyright © 2019 Elsevier Inc. All rights reserved. \n",
    "\n",
    "3. M.L. Brusseau \"Physical Processes Affecting Contaminant Transport and Fate\". Environmental and Pollution Science. https://doi.org/10.1016/B978-0-12-814719-1.00007-0 Copyright © 2019 Elsevier Inc. All rights reserved. 103.\n",
    "\n",
    "4. Gustavo Camps-Valls \"Machine Learning in Remote Sensing Data Processing\" Conference Paper · September 2009 DOI: 10.1109/MLSP.2009.5306233.\n",
    "\n",
    "5. LEO BREIMAN \"Random Forests\". Machine Learning, 45, 5–32, 2001 \u0002c 2001 Kluwer Academic Publishers. Manufactured in The Netherlands.\n",
    "\n",
    "6. Robert H. Shumway • David S. Stoffer \"Third edition Time Series Analysis and Its Applications\". 2011\n",
    "\n",
    "7. \"Sentinel-5 precursor/TROPOMI Level 2 Product User Manual Nitrogendioxide\". 2017"
   ]
  },
  {
   "cell_type": "code",
   "execution_count": null,
   "metadata": {},
   "outputs": [],
   "source": []
  }
 ],
 "metadata": {
  "kernelspec": {
   "display_name": "Python 3",
   "language": "python",
   "name": "python3"
  },
  "language_info": {
   "codemirror_mode": {
    "name": "ipython",
    "version": 3
   },
   "file_extension": ".py",
   "mimetype": "text/x-python",
   "name": "python",
   "nbconvert_exporter": "python",
   "pygments_lexer": "ipython3",
   "version": "3.7.6"
  },
  "toc": {
   "base_numbering": 1,
   "nav_menu": {},
   "number_sections": true,
   "sideBar": true,
   "skip_h1_title": false,
   "title_cell": "Table of Contents",
   "title_sidebar": "Contents",
   "toc_cell": false,
   "toc_position": {},
   "toc_section_display": true,
   "toc_window_display": false
  }
 },
 "nbformat": 4,
 "nbformat_minor": 4
}
