{
  "nbformat": 4,
  "nbformat_minor": 0,
  "metadata": {
    "colab": {
      "name": "CoLab_Random Forest Regression.ipynb",
      "provenance": [],
      "collapsed_sections": []
    },
    "kernelspec": {
      "name": "python3",
      "display_name": "Python 3"
    }
  },
  "cells": [
    {
      "cell_type": "markdown",
      "metadata": {
        "id": "7aiV3yRp0G8v",
        "colab_type": "text"
      },
      "source": [
        "# NO2 Prediction by using Machine Learning Regression Analyses in Google Earth Engine\n"
      ]
    },
    {
      "cell_type": "markdown",
      "metadata": {
        "id": "DAYwGBsUh5sI",
        "colab_type": "text"
      },
      "source": [
        "## **Machine Learning can create a Model to Predict specific value base on existing data set (dependent and independent values).**"
      ]
    },
    {
      "cell_type": "markdown",
      "metadata": {
        "id": "oLy8Jae5vRh2",
        "colab_type": "text"
      },
      "source": [
        "## **Introduction**\n",
        "### **Nitrogen Dioxide (NO2) air pollution**.\n",
        "The World Health Organization estimates that air pollution kills 4.2 million people every year.  \n",
        "The main effect of breathing in raised levels of NO2 is the increased likelihood of respiratory problems. NO2 inflames the lining of the lungs, and it can reduce immunity to lung infections.\n",
        "There are connections between respiratory deceases / also exposure to viruses and more deadly cases.\n",
        "\n",
        "##### ***Sources of NO2***:\n",
        "The rapid population growth, \n",
        "The fast urbanization: \n",
        "*   Industrial facilities\n",
        "*   Fossil fuels (coal, oil and gas)\n",
        "*   Increase of transportation – 80 %.\n",
        "\n",
        "\n",
        "\n",
        "The affect air pollution (NO2):  population health, and global warming.\n"
      ]
    },
    {
      "cell_type": "markdown",
      "metadata": {
        "id": "gN29W5otwiyI",
        "colab_type": "text"
      },
      "source": [
        "## **Objective**\n",
        "The theme of this project is to  create a Model to Predict specific value (NO2) for past years  base on existing data set (Landsat and Sentinel-5P(TROPOMI) images) for 2019. These Prediction can be used for Monitoring and Statistical Analyses of developing NO2 over Time."
      ]
    },
    {
      "cell_type": "markdown",
      "metadata": {
        "id": "zRnAHuAK6dej",
        "colab_type": "text"
      },
      "source": [
        ""
      ]
    },
    {
      "cell_type": "code",
      "metadata": {
        "id": "cgr4g21Y6d5c",
        "colab_type": "code",
        "colab": {}
      },
      "source": [
        ""
      ],
      "execution_count": null,
      "outputs": []
    },
    {
      "cell_type": "markdown",
      "metadata": {
        "id": "x4SxjkzExGXD",
        "colab_type": "text"
      },
      "source": [
        "## **DataSet:**\n",
        "The Sentinel-5P satellite with TROPOspheric Monitoring Instrument (TROPOMI) instrument provides high spectral resolution (7x3.5 km2) for all spectral bands to register level of NO2.  \n",
        "TROPOMI available from October 13, 2017.\n",
        "Landsat satellite launched in 1972 and images are available for more then 40 years."
      ]
    },
    {
      "cell_type": "markdown",
      "metadata": {
        "id": "6wkMNVJa7T4p",
        "colab_type": "text"
      },
      "source": [
        "## **Concept:**\n",
        "Regression: \n",
        "The model can make generalizations about new data. The model has been learned from the training data, and can be used to predict the result of test data: here, we might be given an x-value, and the model would allow us to predict the y value.  By drawing this separating line, we have learned a model which can generalize to new data."
      ]
    },
    {
      "cell_type": "markdown",
      "metadata": {
        "id": "9kqCShGhjInR",
        "colab_type": "text"
      },
      "source": [
        "## 1._ Install libraries"
      ]
    },
    {
      "cell_type": "code",
      "metadata": {
        "id": "H2lJiM_8i_Gw",
        "colab_type": "code",
        "colab": {}
      },
      "source": [
        "!pip install earthengine-api\n"
      ],
      "execution_count": null,
      "outputs": []
    },
    {
      "cell_type": "markdown",
      "metadata": {
        "id": "nsUe3X03jOFw",
        "colab_type": "text"
      },
      "source": [
        "## 2._ Establish connection"
      ]
    },
    {
      "cell_type": "code",
      "metadata": {
        "id": "ifHQNPvPjFMq",
        "colab_type": "code",
        "colab": {}
      },
      "source": [
        "!earthengine authenticate"
      ],
      "execution_count": null,
      "outputs": []
    },
    {
      "cell_type": "markdown",
      "metadata": {
        "id": "4j87pNTBSBxt",
        "colab_type": "text"
      },
      "source": [
        "**`Complete End to End Python code for Random Forest Regression:`**"
      ]
    },
    {
      "cell_type": "code",
      "metadata": {
        "id": "r-9I6SzYSCGH",
        "colab_type": "code",
        "colab": {}
      },
      "source": [
        "# Import necessary Libraries\n",
        "import pandas as pd\n",
        "import numpy as np\n",
        "import matplotlib.pyplot as plt\n",
        "import rasterio as rio\n",
        "from rasterio.plot import show\n",
        "\n",
        "# Import the data ( CSV formats)\n",
        "data = pd.read_csv('name_of_file.csv')\n",
        "data.head()"
      ],
      "execution_count": null,
      "outputs": []
    },
    {
      "cell_type": "code",
      "metadata": {
        "id": "e69MUkyOSC59",
        "colab_type": "code",
        "colab": {}
      },
      "source": [
        "# Store the Data in form of dependent and independent variables separatly\n",
        "X = data.ilog[:, 0:1].values\n",
        "y = data.ilog[:, 1].values"
      ],
      "execution_count": null,
      "outputs": []
    },
    {
      "cell_type": "code",
      "metadata": {
        "id": "i16OpGiarvTC",
        "colab_type": "code",
        "colab": {}
      },
      "source": [
        "# Import the Random Forest Regressor\n",
        "from sklearn.ensemble import RandomForestRegressor\n",
        "\n",
        "# Craete a Random Forest Regressor object from Random Forest Regressor Class\n",
        "RFReg = RandomForestRegressor(n_estimators = 100, random_state = 0)\n",
        "\n",
        "# Fit the random forest regressor with Training Data represented by X_train and y_train\n",
        "RFReg.fit(X_train, y_train)"
      ],
      "execution_count": null,
      "outputs": []
    },
    {
      "cell_type": "code",
      "metadata": {
        "id": "ZcCZfF30HOl4",
        "colab_type": "code",
        "colab": {}
      },
      "source": [
        "#Predicted Height from test dataset w.r.t Random Forest Regression\n",
        "y_predict_rfr = RFReg.predict((X_test))\n",
        "\n",
        "#Model Evaluation using R-Square for Random Forest Regression\n",
        "from sklearn import metrics\n",
        "r_square = metrics.r2_score(y_test, y_predict_rfr)\n",
        "print('R-Square Error associated with Random Forest Regression is:', r_square)"
      ],
      "execution_count": null,
      "outputs": []
    },
    {
      "cell_type": "code",
      "metadata": {
        "id": "AOZOrVHeHXLv",
        "colab_type": "code",
        "colab": {}
      },
      "source": [
        "''' Visualise the Random Forest Regression by creating range of values from min value of X_train to max value of X_train  \n",
        "having a difference of 0.01 between two consecutive values'''\n",
        "X_val = np.arange(min(X_train), max(X_train), 0.01) \n",
        "  \n",
        "#Reshape the data into a len(X_val)*1 array in order to make a column out of the X_val values \n",
        "X_val = X_val.reshape((len(X_val), 1))  \n",
        "  \n",
        "#Define a scatter plot for training data \n",
        "plt.scatter(X_train, y_train, color = 'blue') \n",
        "  \n",
        "#Plot the predicted data \n",
        "plt.plot(X_val, RFReg.predict(X_val), color = 'red')  \n",
        "  \n",
        "#Define the title \n",
        "plt.title('NO2 prediction using Random Forest Regression')  \n",
        "  \n",
        "#Define X axis label \n",
        "plt.xlabel('NDVI') \n",
        "  \n",
        "#Define Y axis label \n",
        "plt.ylabel('Level of NO2') \n",
        "\n",
        "#Set the size of the plot for better clarity\n",
        "plt.figure(figsize=(1,1))\n",
        "  \n",
        "#Draw the plot \n",
        "plt.show()"
      ],
      "execution_count": null,
      "outputs": []
    },
    {
      "cell_type": "code",
      "metadata": {
        "id": "hI-uOuTJHfOv",
        "colab_type": "code",
        "colab": {}
      },
      "source": [
        "# Predicting Height based on Age using Random Forest Regression \n",
        "no2_pred = RFReg.predict([[41]])\n",
        "print(\"Predicted NO2t: % d\"% no2_pred)"
      ],
      "execution_count": null,
      "outputs": []
    },
    {
      "cell_type": "markdown",
      "metadata": {
        "id": "r7PHp_5TN_t6",
        "colab_type": "text"
      },
      "source": [
        "**Model Evaluation**"
      ]
    },
    {
      "cell_type": "code",
      "metadata": {
        "id": "YVsZ58wLN-3M",
        "colab_type": "code",
        "colab": {}
      },
      "source": [
        "#Model Evaluation using Mean Square Error (MSE)\n",
        "print('Mean Squared Error:', metrics.mean_squared_error(y_test, y_predict))"
      ],
      "execution_count": null,
      "outputs": []
    },
    {
      "cell_type": "code",
      "metadata": {
        "id": "HZ4vTRMkOUmL",
        "colab_type": "code",
        "colab": {}
      },
      "source": [
        "#Model Evaluation using Root Mean Square Error (RMSE)\n",
        "print('Root Mean Squared Error:', np.sqrt(metrics.mean_squared_error(y_test, y_predict)))"
      ],
      "execution_count": null,
      "outputs": []
    },
    {
      "cell_type": "code",
      "metadata": {
        "id": "-0tFnJtUOX6S",
        "colab_type": "code",
        "colab": {}
      },
      "source": [
        "#Model Evaluation using Mean Absolute Error (MAE)\n",
        "print('Mean Absolute Error:', metrics.mean_absolute_error(y_test, y_predict))"
      ],
      "execution_count": null,
      "outputs": []
    },
    {
      "cell_type": "code",
      "metadata": {
        "id": "vEzTkUEEOdac",
        "colab_type": "code",
        "colab": {}
      },
      "source": [
        "#Model Evaluation using R-Square\n",
        "from sklearn import metrics\n",
        "r_square = metrics.r2_score(y_test, y_predict)\n",
        "print('R-Square Error:', r_square)"
      ],
      "execution_count": null,
      "outputs": []
    },
    {
      "cell_type": "code",
      "metadata": {
        "id": "3H0pgwgbPDJZ",
        "colab_type": "code",
        "colab": {}
      },
      "source": [
        "#For Illustration Purpose Only. \n",
        "#Considering Multiple Linear Equation with two Variables : grade = a0 + a1*time_to_study + a2*class_participation\n",
        "#Model Evaluation using Adjusted R-Square. \n",
        "# Here n = no. of observations and p = no. of independent variables\n",
        "\n",
        "n = 50\n",
        "p = 2\n",
        "Adj_r_square = 1-(1-r_square)*(n-1)/(n-p-1)\n",
        "print('Adjusted R-Square Error:', Adj_r_square)"
      ],
      "execution_count": null,
      "outputs": []
    }
  ]
}